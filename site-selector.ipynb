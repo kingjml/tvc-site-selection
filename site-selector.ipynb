{
 "cells": [
  {
   "cell_type": "markdown",
   "metadata": {},
   "source": [
    "Import the required libraries and the combined dataset mike b created\n",
    "\n",
    "Drop all rows where any of the data elements are NA"
   ]
  },
  {
   "cell_type": "code",
   "execution_count": 9,
   "metadata": {},
   "outputs": [],
   "source": [
    "import geopandas as gpd\n",
    "import numpy as np\n",
    "from scipy import interpolate\n",
    "import matplotlib.pyplot as plt"
   ]
  },
  {
   "cell_type": "markdown",
   "metadata": {},
   "source": [
    "Pre-processing of the datasets\n",
    "- Remove areas with max veg heights > 0.5 m"
   ]
  },
  {
   "cell_type": "code",
   "execution_count": 10,
   "metadata": {},
   "outputs": [],
   "source": [
    "df = gpd.read_file('./data/shapefiles/geodata.shp')\n",
    "df = siksik.dropna()\n",
    "\n",
    "veg_max = 0.5 # Max veg height we're willing to deal with\n",
    "df = df[df['vegheight_']<= veg_max]"
   ]
  },
  {
   "cell_type": "code",
   "execution_count": 14,
   "metadata": {},
   "outputs": [],
   "source": [
    "snow_max = np.round(df.snow_depth.max()+0.5)\n",
    "snow_min = 0.1\n",
    "snow_step = 0.01 #Bin width of 1 cm\n",
    "bsnow = np.arange(snow_min,snow_max,snow_step) #These are the histogram bins"
   ]
  },
  {
   "cell_type": "markdown",
   "metadata": {},
   "source": [
    "Here we calculate a probability density function (PDF), invert its cumulative density (CDF).\n",
    "The bins are bound by the observations so we don't extrapolate."
   ]
  },
  {
   "cell_type": "code",
   "execution_count": 15,
   "metadata": {},
   "outputs": [],
   "source": [
    "hist, bin_edges = np.histogram(siksik_reduced.snow_depth, bins=bsnow, density=True)\n",
    "cum_values = np.zeros(bin_edges.shape)\n",
    "cum_values[1:] = np.cumsum(hist*np.diff(bin_edges))\n",
    "inv_cdf = interpolate.interp1d(cum_values, bin_edges)"
   ]
  },
  {
   "cell_type": "markdown",
   "metadata": {},
   "source": [
    "Example of how to pull random samples from the distrobution\n",
    "1. Pick number of samples\n",
    "2. Generate random numbers between 0-1\n",
    "3. Use the inverted cdf to pull samples from the known distro\n",
    "4. Find nearest match in the obs. Need to do this because we interpolate the cdf.\n",
    "\n",
    "If you pull enough samples, you'll recreate the observed distrobution."
   ]
  },
  {
   "cell_type": "code",
   "execution_count": 87,
   "metadata": {},
   "outputs": [
    {
     "name": "stdout",
     "output_type": "stream",
     "text": [
      "0.5696214825184002\n",
      "13886    0.56964\n",
      "Name: snow_depth, dtype: float64\n"
     ]
    }
   ],
   "source": [
    "n_samples = 50\n",
    "r = np.random.rand(n_samples)\n",
    "depth_sample = inv_cdf(r)\n",
    "sample_records = [df.iloc[(df['snow_depth']-x).abs().argsort()[:1]] for x in depth_sample]\n",
    "\n",
    "print(depth_sample[0])\n",
    "print(sample_records[0].snow_depth)"
   ]
  },
  {
   "cell_type": "code",
   "execution_count": 100,
   "metadata": {},
   "outputs": [
    {
     "name": "stdout",
     "output_type": "stream",
     "text": [
      "2013 Lidar Snow Stats for SikSik\n",
      "Mean: 0.54 \n",
      "StDev: 0.12 \n",
      "\n",
      "2018 Site Stats\n",
      "Mean: 0.54 \n",
      "StDev: 0.1 \n"
     ]
    }
   ],
   "source": [
    "print('2013 Lidar Snow Stats for SikSik')\n",
    "print (\"Mean: {} \".format(np.round(df.snow_depth.mean(),2)))\n",
    "print (\"StDev: {} \".format(np.round(df.snow_depth.std(),2)))\n",
    "\n",
    "print('\\n2018 Site Stats')\n",
    "print (\"Mean: {} \".format(np.round(depth_sample.mean(),2)))\n",
    "print (\"StDev: {} \".format(np.round(depth_sample.std(),2)))"
   ]
  }
 ],
 "metadata": {
  "kernelspec": {
   "display_name": "Python [conda env:gis]",
   "language": "python",
   "name": "conda-env-gis-py"
  },
  "language_info": {
   "codemirror_mode": {
    "name": "ipython",
    "version": 3
   },
   "file_extension": ".py",
   "mimetype": "text/x-python",
   "name": "python",
   "nbconvert_exporter": "python",
   "pygments_lexer": "ipython3",
   "version": "3.6.7"
  }
 },
 "nbformat": 4,
 "nbformat_minor": 2
}
