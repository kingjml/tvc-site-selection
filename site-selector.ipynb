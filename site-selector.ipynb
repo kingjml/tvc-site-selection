{
 "cells": [
  {
   "cell_type": "markdown",
   "metadata": {},
   "source": [
    "# TVC Site Selector\n",
    "\n",
    "Statistical approach to site selection based on previous TVC obs.\n",
    "Takes input of processed rasters at a 25 m resolution that \n",
    "represent snow depth, veg height, slope, and elevation. We do a bit\n",
    "of pre-processing to remove areas with tall veg and steep slopes. \n",
    "Sites are then selected randomly based on an inversion of the cumulative\n",
    "density function. A seed needs to be set if you want to have the same set\n",
    "of random sites show up on sequential runs."
   ]
  },
  {
   "cell_type": "code",
   "execution_count": null,
   "metadata": {},
   "outputs": [],
   "source": [
    "import geopandas as gpd\n",
    "import pandas as pd\n",
    "import numpy as np\n",
    "from scipy import interpolate\n",
    "import matplotlib.pyplot as plt\n",
    "print(gpd.pd.__version__)"
   ]
  },
  {
   "cell_type": "code",
   "execution_count": null,
   "metadata": {},
   "outputs": [],
   "source": [
    "siksik_data = gpd.read_file('./data/shapefiles/geodata.shp').dropna()\n",
    "siksik_shp = gpd.read_file('./data/shapefiles/siksik.shp')\n",
    "siksik_geoms = siksik_shp.iloc[0].geometry\n",
    "\n",
    "veg_max = 0.5 # Max veg height in m we're willing to deal with\n",
    "slope_max = 15 # Max slope in deg we're willing to deal with\n",
    "\n",
    "# subset our data based on multiple criteria\n",
    "siksik_sub = siksik_data.loc[\n",
    "    (siksik_data.geometry.within(siksik_geoms)) & \n",
    "    (siksik_data.vegheight_ <= veg_max) & \n",
    "    (siksik_data.slope_valu <= slope_max)\n",
    "]"
   ]
  },
  {
   "cell_type": "markdown",
   "metadata": {},
   "source": [
    "Establish bin size for the initial density function"
   ]
  },
  {
   "cell_type": "code",
   "execution_count": null,
   "metadata": {},
   "outputs": [],
   "source": [
    "snow_max = np.ceil(siksik_sub.snow_depth.max()) \n",
    "snow_min = 0.05 # helps avoid water-bodies being selected as sites *brrr*\n",
    "snow_step = 0.01 #Bin width of 1 cm\n",
    "bsnow = np.arange(snow_min,snow_max,snow_step) #These are the histogram bins"
   ]
  },
  {
   "cell_type": "markdown",
   "metadata": {},
   "source": [
    "Here we calculate a probability density function (PDF), invert its cumulative density (CDF).\n",
    "The bins are bound by the observations so we don't extrapolate."
   ]
  },
  {
   "cell_type": "code",
   "execution_count": null,
   "metadata": {},
   "outputs": [],
   "source": [
    "hist, bin_edges = np.histogram(siksik_sub.snow_depth, bins=bsnow, density=True)\n",
    "cum_values = np.zeros(bin_edges.shape)\n",
    "cum_values[1:] = np.cumsum(hist*np.diff(bin_edges))\n",
    "inv_cdf = interpolate.interp1d(cum_values, bin_edges)"
   ]
  },
  {
   "cell_type": "code",
   "execution_count": null,
   "metadata": {},
   "outputs": [],
   "source": [
    "fig, ax = plt.subplots()\n",
    "ax.plot(bin_edges, cum_values)\n",
    "ax.set_xlabel(\"Snow depth (m)\")\n",
    "ax.set_ylabel(\"CDF\")\n",
    "ax.set_title('SikSik Snow depth CDF');"
   ]
  },
  {
   "cell_type": "markdown",
   "metadata": {},
   "source": [
    "Example of how to pull random samples from the distribution\n",
    "\n",
    "1. Select number of samples (`n_samples`)\n",
    "2. Generate `n_samples` random numbers between 0-1\n",
    "3. Use the inverted cdf to pull samples from the known distribution\n",
    "4. Find nearest match in the obs. Need to do this because we interpolate the cdf.\n",
    "\n",
    "If you pull enough samples, you'll recreate the observed distribution."
   ]
  },
  {
   "cell_type": "code",
   "execution_count": null,
   "metadata": {},
   "outputs": [],
   "source": [
    "# set the seed to maintain repeatability\n",
    "seed = 2018\n",
    "np.random.seed(seed)\n",
    "\n",
    "n_samples = 50\n",
    "r = np.random.rand(n_samples)\n",
    "depth_samples = inv_cdf(r)\n",
    "\n",
    "# for each random depth value, find the dataframe index that corresponds to\n",
    "# the data point that is closest in snow_depth value to the random depth value\n",
    "sample_indices = [\n",
    "    (siksik_sub.snow_depth - sample).abs().idxmin()\n",
    "    for sample in depth_samples\n",
    "]\n",
    "\n",
    "# retrieve the sites from the dataframe\n",
    "sites = siksik_sub.loc[sample_indices]\n",
    "\n",
    "print(f'First 5 random depths:\\t{depth_samples[:5]}')\n",
    "print(f'First 5 site depths:\\t{sites.snow_depth.head(5).values}')"
   ]
  },
  {
   "cell_type": "markdown",
   "metadata": {},
   "source": [
    "Check to make sure there are not any overlapping sites and repick"
   ]
  },
  {
   "cell_type": "code",
   "execution_count": null,
   "metadata": {},
   "outputs": [],
   "source": [
    "min_seperation = 100\n",
    "keep_selecting = True\n",
    "while(keep_selecting):\n",
    "    for index, orig in sites.iterrows():\n",
    "        ref = sites.drop(index) \n",
    "        if (ref.buffer(min_seperation).intersects(orig['geometry']).sum()>0):\n",
    "            sites = sites.drop(index)\n",
    "            sample_new = siksik_sub.loc[(siksik_sub.snow_depth - inv_cdf(np.random.rand(1))).abs().idxmin()]\n",
    "            sites = sites.append(sample_new, ignore_index=False)\n",
    "        else:\n",
    "            keep_selecting = False"
   ]
  },
  {
   "cell_type": "markdown",
   "metadata": {},
   "source": [
    "Display some summary statistics on the sample sites and the overall SikSik study area domain"
   ]
  },
  {
   "cell_type": "code",
   "execution_count": null,
   "metadata": {
    "scrolled": true
   },
   "outputs": [],
   "source": [
    "print(f'Sample Site Stats ({sites.shape[0]} data points)')\n",
    "sample_stats = pd.concat([sites.mean(), sites.std(), sites.min(), sites.max()], axis=1, sort=False)\n",
    "sample_stats.columns = ['Mean', 'StDev', 'Min', 'Max']\n",
    "print(sample_stats)"
   ]
  },
  {
   "cell_type": "code",
   "execution_count": null,
   "metadata": {},
   "outputs": [],
   "source": [
    "print(f'Domain Reference Stats ({siksik_sub.shape[0]} data points)')\n",
    "domain_stats = pd.concat([siksik_sub.mean(), siksik_sub.std(), siksik_sub.min(), siksik_sub.max()], axis=1, sort=False)\n",
    "domain_stats.columns = ['Mean', 'StDev', 'Min', 'Max']\n",
    "print(domain_stats)"
   ]
  },
  {
   "cell_type": "code",
   "execution_count": null,
   "metadata": {},
   "outputs": [],
   "source": [
    "sites.to_file('Dec_2018_Sites.shp', driver='ESRI Shapefile',crs_wkt='+init=epsg:32608')"
   ]
  },
  {
   "cell_type": "markdown",
   "metadata": {},
   "source": [
    "### Basic plot example\n",
    "Formatting of labels and colorbars can get messy, but this is a good way to get a plot or series of axes plotted\n",
    "1. Setup the figure and axes (default 1 axis per figure)\n",
    "2. Plot using the pandas/geopandas `.plot()` but being careful to say which axis it should go on"
   ]
  },
  {
   "cell_type": "code",
   "execution_count": null,
   "metadata": {
    "scrolled": false
   },
   "outputs": [],
   "source": [
    "fig, ax = plt.subplots(figsize=(9,9))\n",
    "\n",
    "# plot the snow depth \"raster data\" (actually vector points, but at default markersize it looks like a raster)\n",
    "siksik_data.loc[\n",
    "    siksik_data.geometry.within(siksik_geoms) # temporarily spatial-subset before plotting (doesn't alter siksik_data)\n",
    "].plot(\n",
    "    ax=ax, \n",
    "    column='snow_depth',\n",
    "    cmap='plasma', # not a great cmap for showing snow, but just an example of the built-in colormaps\n",
    "    vmin=snow_min,\n",
    "    vmax=snow_max\n",
    ")\n",
    "\n",
    "# plot the selected sites\n",
    "sites.plot(\n",
    "    ax=ax, \n",
    "    marker='+', \n",
    "    color='#5fff02', # hex colors are a-ok too\n",
    "    markersize=128, \n",
    "    label='Sample sites', \n",
    "    legend=True\n",
    ")\n",
    "\n",
    "ax.set_title('Trail Valley Creek 2018 - Study Site Selection')\n",
    "# example of fancy legend\n",
    "leg = ax.legend(facecolor='black', edgecolor='black')\n",
    "[text.set_color('white') for text in leg.get_texts()]\n",
    "\n",
    "# the annoying colorbar manually done using matplotlib\n",
    "sm = plt.cm.ScalarMappable(\n",
    "    cmap='plasma', \n",
    "    norm=plt.Normalize(vmin=snow_min, vmax=snow_max)\n",
    ")\n",
    "sm._A = [] # data range safe to be empty since we've manually specified vmin/vmax in both the plot and the colorbar\n",
    "cbar = fig.colorbar(sm)\n",
    "cbar.set_label('Snow depth (m)')"
   ]
  },
  {
   "cell_type": "markdown",
   "metadata": {},
   "source": [
    "## Multi-axis plot example"
   ]
  },
  {
   "cell_type": "code",
   "execution_count": null,
   "metadata": {},
   "outputs": [],
   "source": [
    "fig, axes = plt.subplots(ncols=2, nrows=2, figsize=(12,12))\n",
    "snow, dem, slope, veg = axes.ravel()\n",
    "siksik_sub.plot(ax=snow, column='snow_depth', markersize=0.6, vmin=0, vmax=2, cmap='magma', label='Snow Depth', legend=True)\n",
    "siksik_sub.plot(ax=dem, column='dem_value', markersize=0.6, vmin=0, vmax=130, cmap='gray', label='Elevation', legend=True)\n",
    "siksik_sub.plot(ax=slope, column='slope_valu', markersize=0.6, vmin=0, vmax=30, cmap='gray', label='Slope', legend=True)\n",
    "siksik_sub.plot(ax=veg, column='vegheight_', markersize=0.6, vmin=0, vmax=2, cmap='cividis', label='Vegetation Height (max)', legend=True)\n",
    "snow.legend()\n",
    "dem.legend()\n",
    "slope.legend()\n",
    "veg.legend();"
   ]
  }
 ],
 "metadata": {
  "kernelspec": {
   "display_name": "Python [conda env:py3-gis-cforge]",
   "language": "python",
   "name": "conda-env-py3-gis-cforge-py"
  },
  "language_info": {
   "codemirror_mode": {
    "name": "ipython",
    "version": 3
   },
   "file_extension": ".py",
   "mimetype": "text/x-python",
   "name": "python",
   "nbconvert_exporter": "python",
   "pygments_lexer": "ipython3",
   "version": "3.6.6"
  }
 },
 "nbformat": 4,
 "nbformat_minor": 2
}
