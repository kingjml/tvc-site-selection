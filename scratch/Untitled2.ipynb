{
 "cells": [
  {
   "cell_type": "code",
   "execution_count": 2,
   "metadata": {},
   "outputs": [],
   "source": [
    "import rasterio\n",
    "import scipy.interpolate as interpolate\n",
    "import numpy as np\n",
    "import matplotlib.pyplot as plt"
   ]
  },
  {
   "cell_type": "code",
   "execution_count": 3,
   "metadata": {},
   "outputs": [],
   "source": [
    "path = \"./data/rasters/new/SikSik_Snow.tif\"\n",
    "src = rasterio.open(path)"
   ]
  },
  {
   "cell_type": "code",
   "execution_count": 4,
   "metadata": {},
   "outputs": [],
   "source": [
    "snow_depths = src.read()\n",
    "snow_depths = snow_depths[0]\n",
    "snow_depths = snow_depths[snow_depths > 0]\n",
    "snow_max = np.round(snow_depths.max()+0.5)\n",
    "snow_min = 0.1\n",
    "snow_step = 0.01"
   ]
  },
  {
   "cell_type": "code",
   "execution_count": 5,
   "metadata": {},
   "outputs": [],
   "source": [
    "bsnow = np.arange(snow_min,snow_max,snow_step)\n",
    "n_samples = 200\n",
    "hist, bin_edges = np.histogram(snow_depths, bins=bsnow, density=True)\n",
    "cum_values = np.zeros(bin_edges.shape)\n",
    "cum_values[1:] = np.cumsum(hist*np.diff(bin_edges))\n",
    "inv_cdf = interpolate.interp1d(cum_values, bin_edges,  fill_value=\"extrapolate\")\n",
    "r = np.random.rand(n_samples)"
   ]
  },
  {
   "cell_type": "code",
   "execution_count": 6,
   "metadata": {},
   "outputs": [
    {
     "data": {
      "text/plain": [
       "array([0.5458553 , 0.41406344, 0.40399172, 0.39685067, 0.42004451,\n",
       "       0.78154123, 0.55569275, 0.48301663, 0.47172031, 0.36907682,\n",
       "       1.0778401 , 0.79209766, 0.82136011, 0.76759088, 0.44077547,\n",
       "       0.93037218, 0.61928698, 0.67644671, 0.38836836, 0.88565923])"
      ]
     },
     "execution_count": 6,
     "metadata": {},
     "output_type": "execute_result"
    }
   ],
   "source": [
    "inv_cdf(r)"
   ]
  },
  {
   "cell_type": "code",
   "execution_count": 7,
   "metadata": {},
   "outputs": [
    {
     "data": {
      "image/png": "[encoded data removed]",
      "text/plain": [
       "<Figure size 432x288 with 1 Axes>"
      ]
     },
     "metadata": {
      "needs_background": "light"
     },
     "output_type": "display_data"
    }
   ],
   "source": [
    "plt.bar(bin_edges[:-1],hist,width=1)\n",
    "\n",
    "plt.show()"
   ]
  },
  {
   "cell_type": "code",
   "execution_count": 10,
   "metadata": {},
   "outputs": [
    {
     "data": {
      "text/plain": [
       "(array([6., 3., 2., 1., 1., 3., 1., 2., 0., 1.]),\n",
       " array([0.36907682, 0.43995315, 0.51082948, 0.58170581, 0.65258213,\n",
       "        0.72345846, 0.79433479, 0.86521112, 0.93608745, 1.00696377,\n",
       "        1.0778401 ]),\n",
       " <a list of 10 Patch objects>)"
      ]
     },
     "execution_count": 10,
     "metadata": {},
     "output_type": "execute_result"
    },
    {
     "data": {
      "image/png": "[encoded data removed]",
      "text/plain": [
       "<Figure size 432x288 with 1 Axes>"
      ]
     },
     "metadata": {
      "needs_background": "light"
     },
     "output_type": "display_data"
    }
   ],
   "source": [
    "samps= inv_cdf(r)\n",
    "plt.plot(hist)\n",
    "plt.hist(samps)"
   ]
  },
  {
   "cell_type": "code",
   "execution_count": 11,
   "metadata": {},
   "outputs": [
    {
     "data": {
      "text/plain": [
       "(array([6., 3., 2., 1., 1., 3., 1., 2., 0., 1.]),\n",
       " array([0.36907682, 0.43995315, 0.51082948, 0.58170581, 0.65258213,\n",
       "        0.72345846, 0.79433479, 0.86521112, 0.93608745, 1.00696377,\n",
       "        1.0778401 ]),\n",
       " <a list of 10 Patch objects>)"
      ]
     },
     "execution_count": 11,
     "metadata": {},
     "output_type": "execute_result"
    },
    {
     "data": {
      "image/png": "[encoded data removed]",
      "text/plain": [
       "<Figure size 432x288 with 1 Axes>"
      ]
     },
     "metadata": {
      "needs_background": "light"
     },
     "output_type": "display_data"
    }
   ],
   "source": [
    "plt.hist(samps)"
   ]
  },
  {
   "cell_type": "code",
   "execution_count": null,
   "metadata": {},
   "outputs": [],
   "source": []
  }
 ],
 "metadata": {
  "kernelspec": {
   "display_name": "Python [conda env:gis]",
   "language": "python",
   "name": "conda-env-gis-py"
  },
  "language_info": {
   "codemirror_mode": {
    "name": "ipython",
    "version": 3
   },
   "file_extension": ".py",
   "mimetype": "text/x-python",
   "name": "python",
   "nbconvert_exporter": "python",
   "pygments_lexer": "ipython3",
   "version": "3.6.7"
  }
 },
 "nbformat": 4,
 "nbformat_minor": 2
}
