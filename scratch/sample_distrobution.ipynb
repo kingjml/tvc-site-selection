{
 "cells": [
  {
   "cell_type": "code",
   "execution_count": 1,
   "metadata": {},
   "outputs": [],
   "source": [
    "import rasterio\n",
    "import matplotlib.pyplot as plt\n",
    "from rasterio.plot import show_hist\n",
    "import numpy as np\n",
    "import matplotlib.pyplot as plt\n",
    "from scipy import interpolate"
   ]
  },
  {
   "cell_type": "code",
   "execution_count": 2,
   "metadata": {},
   "outputs": [],
   "source": [
    "path_snow = \"./data/rasters/new/SikSik_Snow.tif\"\n",
    "path_veg = \"./data/rasters/new/SikSik_Veg.tif\"\n",
    "path_dem = \"./data/rasters/new/SikSik_DEM.tif\"\n",
    "\n",
    "src_snow = rasterio.open(path_snow)\n",
    "src_veg = rasterio.open(path_veg)\n",
    "src_dem = rasterio.open(path_dem)"
   ]
  },
  {
   "cell_type": "code",
   "execution_count": 3,
   "metadata": {},
   "outputs": [
    {
     "name": "stdout",
     "output_type": "stream",
     "text": [
      "(181, 122)\n"
     ]
    }
   ],
   "source": [
    "snow_depths = src_snow.read()[0]\n",
    "#snow_depths = snow_depths[snow_depths > 0]\n",
    "print(snow_depths.shape)\n",
    "\n",
    "dem_height = src_dem.read()[0]\n",
    "veg_height = src_veg.read()[0]\n"
   ]
  },
  {
   "cell_type": "code",
   "execution_count": 4,
   "metadata": {},
   "outputs": [],
   "source": [
    "snow_max = np.round(snow_depths.max()+0.5)\n",
    "snow_min = 0.1\n",
    "snow_step = 0.01\n",
    "bsnow = np.arange(snow_min,snow_max,snow_step)"
   ]
  },
  {
   "cell_type": "code",
   "execution_count": null,
   "metadata": {},
   "outputs": [],
   "source": []
  },
  {
   "cell_type": "code",
   "execution_count": 14,
   "metadata": {},
   "outputs": [],
   "source": [
    "n_samples = 1\n",
    "hist, bin_edges = np.histogram(snow_depths, bins=bsnow, density=True)\n",
    "cum_values = np.zeros(bin_edges.shape)\n",
    "cum_values[1:] = np.cumsum(hist*np.diff(bin_edges))\n",
    "inv_cdf = interpolate.interp1d(cum_values, bin_edges)\n",
    "r = np.random.rand(n_samples)"
   ]
  },
  {
   "cell_type": "code",
   "execution_count": 15,
   "metadata": {},
   "outputs": [],
   "source": [
    "depths_sim = inv_cdf(r)\n",
    "hist_obs, bin_edges = np.histogram(snow_depths,bins=bsnow, density=True)\n",
    "hist_sim, bin_edges = np.histogram(depths_sim,bins=bsnow, density=True)"
   ]
  },
  {
   "cell_type": "code",
   "execution_count": 16,
   "metadata": {},
   "outputs": [
    {
     "data": {
      "text/plain": [
       "[<matplotlib.patches.Polygon at 0xa313390>]"
      ]
     },
     "execution_count": 16,
     "metadata": {},
     "output_type": "execute_result"
    },
    {
     "data": {
      "image/png": "[encoded data removed]",
      "text/plain": [
       "<Figure size 432x288 with 1 Axes>"
      ]
     },
     "metadata": {
      "needs_background": "light"
     },
     "output_type": "display_data"
    }
   ],
   "source": [
    "fig, ax = plt.subplots()\n",
    "ax.fill(bin_edges[:-1], hist_obs, fc='red', alpha=0.2,\n",
    "        label='input distribution')\n",
    "\n",
    "ax.fill(bin_edges[:-1], hist_sim, fc='black', alpha=0.5,\n",
    "        label='input distribution')"
   ]
  },
  {
   "cell_type": "code",
   "execution_count": 17,
   "metadata": {},
   "outputs": [],
   "source": [
    "def find_nearest(array, value):\n",
    "    array_diff = np.fabs(array - value)\n",
    "    return np.unravel_index(array_diff.argmin(), array_diff.shape)\n"
   ]
  },
  {
   "cell_type": "code",
   "execution_count": 18,
   "metadata": {},
   "outputs": [
    {
     "data": {
      "text/plain": [
       "0.5593101"
      ]
     },
     "execution_count": 18,
     "metadata": {},
     "output_type": "execute_result"
    }
   ],
   "source": [
    "snow_depths[find_nearest(snow_depths,depths_sim)]"
   ]
  },
  {
   "cell_type": "code",
   "execution_count": 19,
   "metadata": {},
   "outputs": [
    {
     "data": {
      "text/plain": [
       "array([0.55930081])"
      ]
     },
     "execution_count": 19,
     "metadata": {},
     "output_type": "execute_result"
    }
   ],
   "source": [
    "depths_sim"
   ]
  },
  {
   "cell_type": "code",
   "execution_count": null,
   "metadata": {},
   "outputs": [],
   "source": []
  }
 ],
 "metadata": {
  "kernelspec": {
   "display_name": "Python [conda env:gis]",
   "language": "python",
   "name": "conda-env-gis-py"
  },
  "language_info": {
   "codemirror_mode": {
    "name": "ipython",
    "version": 3
   },
   "file_extension": ".py",
   "mimetype": "text/x-python",
   "name": "python",
   "nbconvert_exporter": "python",
   "pygments_lexer": "ipython3",
   "version": "3.6.7"
  }
 },
 "nbformat": 4,
 "nbformat_minor": 2
}
