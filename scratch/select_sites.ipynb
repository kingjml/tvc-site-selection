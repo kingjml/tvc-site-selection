{
 "cells": [
  {
   "cell_type": "code",
   "execution_count": 49,
   "metadata": {},
   "outputs": [],
   "source": [
    "import rasterio\n",
    "from rasterio.plot import show_hist, show\n",
    "from rasterio.mask import mask\n",
    "import scipy.interpolate as interpolate\n",
    "import numpy as np\n",
    "import matplotlib.pyplot as plt\n",
    "import geopandas as gpd\n",
    "from shapely.geometry import mapping\n",
    "from scipy import stats"
   ]
  },
  {
   "cell_type": "code",
   "execution_count": 32,
   "metadata": {},
   "outputs": [],
   "source": [
    "path_snow = \"./data/rasters/new/SikSik_Snow.tif\"\n",
    "path_veg = \"./data/rasters/new/SikSik_Veg.tif\"\n",
    "path_dem = \"./data/rasters/new/SikSik_DEM.tif\"\n",
    "path_raster = [path_snow,path_veg,path_dem]\n",
    "\n",
    "src_snow = rasterio.open(path_snow)\n",
    "src_veg = rasterio.open(path_veg)\n",
    "src_dem = rasterio.open(path_dem)\n",
    "\n",
    "ss_shp = gpd.read_file(\"./data/shapefiles/SikSik.shp\")"
   ]
  },
  {
   "cell_type": "code",
   "execution_count": 51,
   "metadata": {},
   "outputs": [],
   "source": [
    "sd = src_snow.read()\n",
    "sd = snow_depths[0]\n",
    "sd = snow_depths[snow_depths > 0]\n"
   ]
  },
  {
   "cell_type": "code",
   "execution_count": 53,
   "metadata": {},
   "outputs": [],
   "source": [
    "sd_mu = sd.mean()\n",
    "sd_sig = sd.std()\n",
    "sd_zscore = stats.zscore(sd)"
   ]
  },
  {
   "cell_type": "code",
   "execution_count": 59,
   "metadata": {},
   "outputs": [
    {
     "data": {
      "text/plain": [
       "1.972270518747864"
      ]
     },
     "execution_count": 59,
     "metadata": {},
     "output_type": "execute_result"
    }
   ],
   "source": [
    "scipy.stats.norm(sd_mu,sd_sig).pdf(sd[0])"
   ]
  },
  {
   "cell_type": "code",
   "execution_count": 35,
   "metadata": {},
   "outputs": [],
   "source": [
    "ss_geoms = ss_shp.geometry.values\n",
    "ss_geometry = ss_geoms[0]\n",
    "ss_geoms = [mapping(ss_geoms[0])]"
   ]
  },
  {
   "cell_type": "code",
   "execution_count": 36,
   "metadata": {},
   "outputs": [],
   "source": [
    "with rasterio.open(path_raster[0]) as src:\n",
    "     out_image, out_transform = mask(src, ss_geoms, crop=True)"
   ]
  },
  {
   "cell_type": "code",
   "execution_count": 37,
   "metadata": {},
   "outputs": [
    {
     "data": {
      "image/png": "[encoded data removed]",
      "text/plain": [
       "<Figure size 432x288 with 1 Axes>"
      ]
     },
     "metadata": {
      "needs_background": "light"
     },
     "output_type": "display_data"
    },
    {
     "data": {
      "text/plain": [
       "<matplotlib.axes._subplots.AxesSubplot at 0x634fc50>"
      ]
     },
     "execution_count": 37,
     "metadata": {},
     "output_type": "execute_result"
    }
   ],
   "source": [
    "show(out_image)"
   ]
  },
  {
   "cell_type": "code",
   "execution_count": 38,
   "metadata": {},
   "outputs": [],
   "source": [
    "no_data=src.nodata\n",
    "data = out_image.data[0]\n",
    "row, col = np.where(data != no_data) \n",
    "snow = np.extract(data != no_data, data)"
   ]
  },
  {
   "cell_type": "code",
   "execution_count": 41,
   "metadata": {},
   "outputs": [],
   "source": [
    "from rasterio import Affine # or from affine import Affine\n",
    "T1 = out_transform * Affine.translation(0.5, 0.5) # reference the pixel centre\n",
    "rc2xy = lambda r, c: (c, r) * T1  "
   ]
  },
  {
   "cell_type": "code",
   "execution_count": 42,
   "metadata": {},
   "outputs": [],
   "source": [
    "d = gpd.GeoDataFrame({'col':col,'row':row,'snow':snow})\n",
    "d['x'] = d.apply(lambda row: rc2xy(row.row,row.col)[0], axis=1)\n",
    "d['y'] = d.apply(lambda row: rc2xy(row.row,row.col)[1], axis=1)"
   ]
  },
  {
   "cell_type": "code",
   "execution_count": 43,
   "metadata": {},
   "outputs": [
    {
     "data": {
      "text/html": [
       "<div>\n",
       "<style scoped>\n",
       "    .dataframe tbody tr th:only-of-type {\n",
       "        vertical-align: middle;\n",
       "    }\n",
       "\n",
       "    .dataframe tbody tr th {\n",
       "        vertical-align: top;\n",
       "    }\n",
       "\n",
       "    .dataframe thead th {\n",
       "        text-align: right;\n",
       "    }\n",
       "</style>\n",
       "<table border=\"1\" class=\"dataframe\">\n",
       "  <thead>\n",
       "    <tr style=\"text-align: right;\">\n",
       "      <th></th>\n",
       "      <th>col</th>\n",
       "      <th>row</th>\n",
       "      <th>snow</th>\n",
       "      <th>x</th>\n",
       "      <th>y</th>\n",
       "      <th>geometry</th>\n",
       "    </tr>\n",
       "  </thead>\n",
       "  <tbody>\n",
       "    <tr>\n",
       "      <th>0</th>\n",
       "      <td>22</td>\n",
       "      <td>0</td>\n",
       "      <td>0.498604</td>\n",
       "      <td>560102.220237</td>\n",
       "      <td>7.627944e+06</td>\n",
       "      <td>POINT (560102.2202366226 7627943.808611122)</td>\n",
       "    </tr>\n",
       "    <tr>\n",
       "      <th>1</th>\n",
       "      <td>23</td>\n",
       "      <td>0</td>\n",
       "      <td>0.507716</td>\n",
       "      <td>560127.220237</td>\n",
       "      <td>7.627944e+06</td>\n",
       "      <td>POINT (560127.2202366226 7627943.808611122)</td>\n",
       "    </tr>\n",
       "  </tbody>\n",
       "</table>\n",
       "</div>"
      ],
      "text/plain": [
       "   col  row      snow              x             y  \\\n",
       "0   22    0  0.498604  560102.220237  7.627944e+06   \n",
       "1   23    0  0.507716  560127.220237  7.627944e+06   \n",
       "\n",
       "                                      geometry  \n",
       "0  POINT (560102.2202366226 7627943.808611122)  \n",
       "1  POINT (560127.2202366226 7627943.808611122)  "
      ]
     },
     "execution_count": 43,
     "metadata": {},
     "output_type": "execute_result"
    }
   ],
   "source": [
    "# geometry\n",
    "from shapely.geometry import Point\n",
    "d['geometry'] =d.apply(lambda row: Point(row['x'], row['y']), axis=1)\n",
    "# first 2 points\n",
    "d.head(2)"
   ]
  },
  {
   "cell_type": "code",
   "execution_count": null,
   "metadata": {},
   "outputs": [],
   "source": []
  }
 ],
 "metadata": {
  "kernelspec": {
   "display_name": "Python [conda env:gis]",
   "language": "python",
   "name": "conda-env-gis-py"
  },
  "language_info": {
   "codemirror_mode": {
    "name": "ipython",
    "version": 3
   },
   "file_extension": ".py",
   "mimetype": "text/x-python",
   "name": "python",
   "nbconvert_exporter": "python",
   "pygments_lexer": "ipython3",
   "version": "3.6.7"
  }
 },
 "nbformat": 4,
 "nbformat_minor": 2
}
